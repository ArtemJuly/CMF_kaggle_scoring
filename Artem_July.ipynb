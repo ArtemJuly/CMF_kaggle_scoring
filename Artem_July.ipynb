{
 "cells": [
  {
   "cell_type": "markdown",
   "id": "40ceefc4",
   "metadata": {},
   "source": [
    "# Подготовка к работе"
   ]
  },
  {
   "cell_type": "code",
   "execution_count": 167,
   "id": "9ef23fdf",
   "metadata": {},
   "outputs": [],
   "source": [
    "import pandas as pd\n",
    "import numpy as np\n",
    "import seaborn as sns\n",
    "import matplotlib.pyplot as plt\n",
    "\n",
    "from sklearn.model_selection import train_test_split, StratifiedKFold, GridSearchCV\n",
    "from sklearn.linear_model import LogisticRegression\n",
    "from sklearn.impute import SimpleImputer\n",
    "from sklearn.metrics import precision_score, recall_score, auc, accuracy_score, roc_auc_score,f1_score,log_loss,\\\n",
    "classification_report, roc_curve\n",
    "\n",
    "import warnings\n",
    "RAND = 10\n",
    "warnings.filterwarnings(\"ignore\");"
   ]
  },
  {
   "cell_type": "markdown",
   "id": "d798dfc4",
   "metadata": {},
   "source": [
    "# Загрузка данных"
   ]
  },
  {
   "cell_type": "code",
   "execution_count": 127,
   "id": "abef0771",
   "metadata": {},
   "outputs": [],
   "source": [
    "X = pd.read_csv(\"X_train.csv\")\n",
    "y = pd.read_csv(\"y_train.csv\")"
   ]
  },
  {
   "cell_type": "code",
   "execution_count": 35,
   "id": "2b0b1d67-d080-4a30-bc30-55ace92c59fa",
   "metadata": {},
   "outputs": [
    {
     "data": {
      "text/html": [
       "<div>\n",
       "<style scoped>\n",
       "    .dataframe tbody tr th:only-of-type {\n",
       "        vertical-align: middle;\n",
       "    }\n",
       "\n",
       "    .dataframe tbody tr th {\n",
       "        vertical-align: top;\n",
       "    }\n",
       "\n",
       "    .dataframe thead th {\n",
       "        text-align: right;\n",
       "    }\n",
       "</style>\n",
       "<table border=\"1\" class=\"dataframe\">\n",
       "  <thead>\n",
       "    <tr style=\"text-align: right;\">\n",
       "      <th></th>\n",
       "      <th>credit_card_utilization</th>\n",
       "      <th>age</th>\n",
       "      <th>overdue_30_59_days</th>\n",
       "      <th>debt_to_income</th>\n",
       "      <th>monthly_income</th>\n",
       "      <th>credits_loans</th>\n",
       "      <th>overdue__more_than_90_days</th>\n",
       "      <th>mortgage_loans</th>\n",
       "      <th>overdue_60_89_days</th>\n",
       "      <th>family_members</th>\n",
       "      <th>target</th>\n",
       "    </tr>\n",
       "  </thead>\n",
       "  <tbody>\n",
       "    <tr>\n",
       "      <th>13286</th>\n",
       "      <td>0.042609</td>\n",
       "      <td>27</td>\n",
       "      <td>0</td>\n",
       "      <td>0.172900</td>\n",
       "      <td>6123.754877</td>\n",
       "      <td>14</td>\n",
       "      <td>0</td>\n",
       "      <td>2</td>\n",
       "      <td>0</td>\n",
       "      <td>0.0</td>\n",
       "      <td>0</td>\n",
       "    </tr>\n",
       "    <tr>\n",
       "      <th>52975</th>\n",
       "      <td>0.635244</td>\n",
       "      <td>43</td>\n",
       "      <td>0</td>\n",
       "      <td>0.297026</td>\n",
       "      <td>7762.894719</td>\n",
       "      <td>9</td>\n",
       "      <td>0</td>\n",
       "      <td>2</td>\n",
       "      <td>0</td>\n",
       "      <td>2.0</td>\n",
       "      <td>0</td>\n",
       "    </tr>\n",
       "    <tr>\n",
       "      <th>67247</th>\n",
       "      <td>0.016390</td>\n",
       "      <td>68</td>\n",
       "      <td>0</td>\n",
       "      <td>1.286887</td>\n",
       "      <td>1028.136235</td>\n",
       "      <td>20</td>\n",
       "      <td>0</td>\n",
       "      <td>3</td>\n",
       "      <td>0</td>\n",
       "      <td>0.0</td>\n",
       "      <td>0</td>\n",
       "    </tr>\n",
       "  </tbody>\n",
       "</table>\n",
       "</div>"
      ],
      "text/plain": [
       "       credit_card_utilization  age  overdue_30_59_days  debt_to_income  \\\n",
       "13286                 0.042609   27                   0        0.172900   \n",
       "52975                 0.635244   43                   0        0.297026   \n",
       "67247                 0.016390   68                   0        1.286887   \n",
       "\n",
       "       monthly_income  credits_loans  overdue__more_than_90_days  \\\n",
       "13286     6123.754877             14                           0   \n",
       "52975     7762.894719              9                           0   \n",
       "67247     1028.136235             20                           0   \n",
       "\n",
       "       mortgage_loans  overdue_60_89_days  family_members  target  \n",
       "13286               2                   0             0.0       0  \n",
       "52975               2                   0             2.0       0  \n",
       "67247               3                   0             0.0       0  "
      ]
     },
     "execution_count": 35,
     "metadata": {},
     "output_type": "execute_result"
    }
   ],
   "source": [
    "df = X.join(y)\n",
    "df.sample(3)"
   ]
  },
  {
   "cell_type": "code",
   "execution_count": 3,
   "id": "c302cb5d",
   "metadata": {},
   "outputs": [
    {
     "data": {
      "text/plain": [
       "(105109, 10)"
      ]
     },
     "execution_count": 3,
     "metadata": {},
     "output_type": "execute_result"
    }
   ],
   "source": [
    "X.shape"
   ]
  },
  {
   "cell_type": "code",
   "execution_count": 4,
   "id": "19f3ab65",
   "metadata": {},
   "outputs": [
    {
     "data": {
      "text/plain": [
       "(105109, 1)"
      ]
     },
     "execution_count": 4,
     "metadata": {},
     "output_type": "execute_result"
    }
   ],
   "source": [
    "y.shape"
   ]
  },
  {
   "cell_type": "code",
   "execution_count": 5,
   "id": "988d5015",
   "metadata": {},
   "outputs": [
    {
     "data": {
      "text/html": [
       "<div>\n",
       "<style scoped>\n",
       "    .dataframe tbody tr th:only-of-type {\n",
       "        vertical-align: middle;\n",
       "    }\n",
       "\n",
       "    .dataframe tbody tr th {\n",
       "        vertical-align: top;\n",
       "    }\n",
       "\n",
       "    .dataframe thead th {\n",
       "        text-align: right;\n",
       "    }\n",
       "</style>\n",
       "<table border=\"1\" class=\"dataframe\">\n",
       "  <thead>\n",
       "    <tr style=\"text-align: right;\">\n",
       "      <th></th>\n",
       "      <th>credit_card_utilization</th>\n",
       "      <th>age</th>\n",
       "      <th>overdue_30_59_days</th>\n",
       "      <th>debt_to_income</th>\n",
       "      <th>monthly_income</th>\n",
       "      <th>credits_loans</th>\n",
       "      <th>overdue__more_than_90_days</th>\n",
       "      <th>mortgage_loans</th>\n",
       "      <th>overdue_60_89_days</th>\n",
       "      <th>family_members</th>\n",
       "    </tr>\n",
       "  </thead>\n",
       "  <tbody>\n",
       "    <tr>\n",
       "      <th>103906</th>\n",
       "      <td>0.026817</td>\n",
       "      <td>81</td>\n",
       "      <td>0</td>\n",
       "      <td>172.952808</td>\n",
       "      <td>NaN</td>\n",
       "      <td>15</td>\n",
       "      <td>0</td>\n",
       "      <td>1</td>\n",
       "      <td>0</td>\n",
       "      <td>2.0</td>\n",
       "    </tr>\n",
       "    <tr>\n",
       "      <th>35371</th>\n",
       "      <td>0.548891</td>\n",
       "      <td>77</td>\n",
       "      <td>0</td>\n",
       "      <td>0.592528</td>\n",
       "      <td>2870.009966</td>\n",
       "      <td>5</td>\n",
       "      <td>0</td>\n",
       "      <td>0</td>\n",
       "      <td>0</td>\n",
       "      <td>0.0</td>\n",
       "    </tr>\n",
       "    <tr>\n",
       "      <th>82161</th>\n",
       "      <td>0.123863</td>\n",
       "      <td>44</td>\n",
       "      <td>0</td>\n",
       "      <td>0.505352</td>\n",
       "      <td>2902.980919</td>\n",
       "      <td>14</td>\n",
       "      <td>0</td>\n",
       "      <td>1</td>\n",
       "      <td>0</td>\n",
       "      <td>0.0</td>\n",
       "    </tr>\n",
       "    <tr>\n",
       "      <th>75255</th>\n",
       "      <td>0.199045</td>\n",
       "      <td>40</td>\n",
       "      <td>0</td>\n",
       "      <td>439.663299</td>\n",
       "      <td>NaN</td>\n",
       "      <td>9</td>\n",
       "      <td>0</td>\n",
       "      <td>0</td>\n",
       "      <td>0</td>\n",
       "      <td>0.0</td>\n",
       "    </tr>\n",
       "    <tr>\n",
       "      <th>61908</th>\n",
       "      <td>0.121055</td>\n",
       "      <td>44</td>\n",
       "      <td>0</td>\n",
       "      <td>0.543856</td>\n",
       "      <td>3909.853088</td>\n",
       "      <td>8</td>\n",
       "      <td>0</td>\n",
       "      <td>2</td>\n",
       "      <td>0</td>\n",
       "      <td>3.0</td>\n",
       "    </tr>\n",
       "  </tbody>\n",
       "</table>\n",
       "</div>"
      ],
      "text/plain": [
       "        credit_card_utilization  age  overdue_30_59_days  debt_to_income  \\\n",
       "103906                 0.026817   81                   0      172.952808   \n",
       "35371                  0.548891   77                   0        0.592528   \n",
       "82161                  0.123863   44                   0        0.505352   \n",
       "75255                  0.199045   40                   0      439.663299   \n",
       "61908                  0.121055   44                   0        0.543856   \n",
       "\n",
       "        monthly_income  credits_loans  overdue__more_than_90_days  \\\n",
       "103906             NaN             15                           0   \n",
       "35371      2870.009966              5                           0   \n",
       "82161      2902.980919             14                           0   \n",
       "75255              NaN              9                           0   \n",
       "61908      3909.853088              8                           0   \n",
       "\n",
       "        mortgage_loans  overdue_60_89_days  family_members  \n",
       "103906               1                   0             2.0  \n",
       "35371                0                   0             0.0  \n",
       "82161                1                   0             0.0  \n",
       "75255                0                   0             0.0  \n",
       "61908                2                   0             3.0  "
      ]
     },
     "execution_count": 5,
     "metadata": {},
     "output_type": "execute_result"
    }
   ],
   "source": [
    "X.sample(5)"
   ]
  },
  {
   "cell_type": "code",
   "execution_count": 6,
   "id": "35adea13",
   "metadata": {},
   "outputs": [
    {
     "name": "stdout",
     "output_type": "stream",
     "text": [
      "<class 'pandas.core.frame.DataFrame'>\n",
      "RangeIndex: 105109 entries, 0 to 105108\n",
      "Data columns (total 10 columns):\n",
      " #   Column                      Non-Null Count   Dtype  \n",
      "---  ------                      --------------   -----  \n",
      " 0   credit_card_utilization     105109 non-null  float64\n",
      " 1   age                         105109 non-null  int64  \n",
      " 2   overdue_30_59_days          105109 non-null  int64  \n",
      " 3   debt_to_income              105109 non-null  float64\n",
      " 4   monthly_income              84116 non-null   float64\n",
      " 5   credits_loans               105109 non-null  int64  \n",
      " 6   overdue__more_than_90_days  105109 non-null  int64  \n",
      " 7   mortgage_loans              105109 non-null  int64  \n",
      " 8   overdue_60_89_days          105109 non-null  int64  \n",
      " 9   family_members              102304 non-null  float64\n",
      "dtypes: float64(4), int64(6)\n",
      "memory usage: 8.0 MB\n"
     ]
    }
   ],
   "source": [
    "X.info()"
   ]
  },
  {
   "cell_type": "code",
   "execution_count": 14,
   "id": "e735fb78",
   "metadata": {},
   "outputs": [
    {
     "data": {
      "text/plain": [
       "0.19972599872513297"
      ]
     },
     "execution_count": 14,
     "metadata": {},
     "output_type": "execute_result"
    }
   ],
   "source": [
    "X.monthly_income.isna().sum() / X.shape[0] "
   ]
  },
  {
   "cell_type": "code",
   "execution_count": 16,
   "id": "5b94af3c",
   "metadata": {},
   "outputs": [
    {
     "data": {
      "text/plain": [
       "0.026686582500071356"
      ]
     },
     "execution_count": 16,
     "metadata": {},
     "output_type": "execute_result"
    }
   ],
   "source": [
    "X.family_members.isna().sum() / X.shape[0] "
   ]
  },
  {
   "cell_type": "code",
   "execution_count": 7,
   "id": "e2afc151",
   "metadata": {},
   "outputs": [
    {
     "data": {
      "text/plain": [
       "credit_card_utilization        97475\n",
       "age                               86\n",
       "overdue_30_59_days                15\n",
       "debt_to_income                102217\n",
       "monthly_income                 82956\n",
       "credits_loans                     59\n",
       "overdue__more_than_90_days        16\n",
       "mortgage_loans                    27\n",
       "overdue_60_89_days                13\n",
       "family_members                    13\n",
       "dtype: int64"
      ]
     },
     "execution_count": 7,
     "metadata": {},
     "output_type": "execute_result"
    }
   ],
   "source": [
    "X.nunique()"
   ]
  },
  {
   "cell_type": "code",
   "execution_count": 10,
   "id": "0ffc2d31-e0de-4c51-810f-5d4366d2df65",
   "metadata": {},
   "outputs": [
    {
     "data": {
      "text/html": [
       "<div>\n",
       "<style scoped>\n",
       "    .dataframe tbody tr th:only-of-type {\n",
       "        vertical-align: middle;\n",
       "    }\n",
       "\n",
       "    .dataframe tbody tr th {\n",
       "        vertical-align: top;\n",
       "    }\n",
       "\n",
       "    .dataframe thead th {\n",
       "        text-align: right;\n",
       "    }\n",
       "</style>\n",
       "<table border=\"1\" class=\"dataframe\">\n",
       "  <thead>\n",
       "    <tr style=\"text-align: right;\">\n",
       "      <th></th>\n",
       "      <th>credit_card_utilization</th>\n",
       "      <th>age</th>\n",
       "      <th>overdue_30_59_days</th>\n",
       "      <th>debt_to_income</th>\n",
       "      <th>monthly_income</th>\n",
       "      <th>credits_loans</th>\n",
       "      <th>overdue__more_than_90_days</th>\n",
       "      <th>mortgage_loans</th>\n",
       "      <th>overdue_60_89_days</th>\n",
       "      <th>family_members</th>\n",
       "    </tr>\n",
       "  </thead>\n",
       "  <tbody>\n",
       "    <tr>\n",
       "      <th>count</th>\n",
       "      <td>105109.000000</td>\n",
       "      <td>105109.000000</td>\n",
       "      <td>105109.000000</td>\n",
       "      <td>105109.000000</td>\n",
       "      <td>8.411600e+04</td>\n",
       "      <td>105109.000000</td>\n",
       "      <td>105109.000000</td>\n",
       "      <td>105109.000000</td>\n",
       "      <td>105109.000000</td>\n",
       "      <td>102304.000000</td>\n",
       "    </tr>\n",
       "    <tr>\n",
       "      <th>mean</th>\n",
       "      <td>5.825173</td>\n",
       "      <td>53.321067</td>\n",
       "      <td>0.426643</td>\n",
       "      <td>354.188156</td>\n",
       "      <td>6.649725e+03</td>\n",
       "      <td>8.956255</td>\n",
       "      <td>0.269967</td>\n",
       "      <td>1.018514</td>\n",
       "      <td>0.244356</td>\n",
       "      <td>0.757096</td>\n",
       "    </tr>\n",
       "    <tr>\n",
       "      <th>std</th>\n",
       "      <td>251.021431</td>\n",
       "      <td>14.811007</td>\n",
       "      <td>4.251225</td>\n",
       "      <td>1827.184165</td>\n",
       "      <td>1.106504e+04</td>\n",
       "      <td>5.182715</td>\n",
       "      <td>4.227366</td>\n",
       "      <td>1.136228</td>\n",
       "      <td>4.214018</td>\n",
       "      <td>1.116525</td>\n",
       "    </tr>\n",
       "    <tr>\n",
       "      <th>min</th>\n",
       "      <td>0.000000</td>\n",
       "      <td>0.000000</td>\n",
       "      <td>0.000000</td>\n",
       "      <td>0.000000</td>\n",
       "      <td>0.000000e+00</td>\n",
       "      <td>0.000000</td>\n",
       "      <td>0.000000</td>\n",
       "      <td>0.000000</td>\n",
       "      <td>0.000000</td>\n",
       "      <td>0.000000</td>\n",
       "    </tr>\n",
       "    <tr>\n",
       "      <th>25%</th>\n",
       "      <td>0.029592</td>\n",
       "      <td>42.000000</td>\n",
       "      <td>0.000000</td>\n",
       "      <td>0.173670</td>\n",
       "      <td>3.343201e+03</td>\n",
       "      <td>5.000000</td>\n",
       "      <td>0.000000</td>\n",
       "      <td>0.000000</td>\n",
       "      <td>0.000000</td>\n",
       "      <td>0.000000</td>\n",
       "    </tr>\n",
       "    <tr>\n",
       "      <th>50%</th>\n",
       "      <td>0.153792</td>\n",
       "      <td>53.000000</td>\n",
       "      <td>0.000000</td>\n",
       "      <td>0.365047</td>\n",
       "      <td>5.361778e+03</td>\n",
       "      <td>8.000000</td>\n",
       "      <td>0.000000</td>\n",
       "      <td>1.000000</td>\n",
       "      <td>0.000000</td>\n",
       "      <td>0.000000</td>\n",
       "    </tr>\n",
       "    <tr>\n",
       "      <th>75%</th>\n",
       "      <td>0.554374</td>\n",
       "      <td>64.000000</td>\n",
       "      <td>0.000000</td>\n",
       "      <td>0.880882</td>\n",
       "      <td>8.207866e+03</td>\n",
       "      <td>12.000000</td>\n",
       "      <td>0.000000</td>\n",
       "      <td>2.000000</td>\n",
       "      <td>0.000000</td>\n",
       "      <td>1.000000</td>\n",
       "    </tr>\n",
       "    <tr>\n",
       "      <th>max</th>\n",
       "      <td>48779.730023</td>\n",
       "      <td>111.000000</td>\n",
       "      <td>98.000000</td>\n",
       "      <td>323248.210242</td>\n",
       "      <td>1.359526e+06</td>\n",
       "      <td>58.000000</td>\n",
       "      <td>98.000000</td>\n",
       "      <td>54.000000</td>\n",
       "      <td>98.000000</td>\n",
       "      <td>20.000000</td>\n",
       "    </tr>\n",
       "  </tbody>\n",
       "</table>\n",
       "</div>"
      ],
      "text/plain": [
       "       credit_card_utilization            age  overdue_30_59_days  \\\n",
       "count            105109.000000  105109.000000       105109.000000   \n",
       "mean                  5.825173      53.321067            0.426643   \n",
       "std                 251.021431      14.811007            4.251225   \n",
       "min                   0.000000       0.000000            0.000000   \n",
       "25%                   0.029592      42.000000            0.000000   \n",
       "50%                   0.153792      53.000000            0.000000   \n",
       "75%                   0.554374      64.000000            0.000000   \n",
       "max               48779.730023     111.000000           98.000000   \n",
       "\n",
       "       debt_to_income  monthly_income  credits_loans  \\\n",
       "count   105109.000000    8.411600e+04  105109.000000   \n",
       "mean       354.188156    6.649725e+03       8.956255   \n",
       "std       1827.184165    1.106504e+04       5.182715   \n",
       "min          0.000000    0.000000e+00       0.000000   \n",
       "25%          0.173670    3.343201e+03       5.000000   \n",
       "50%          0.365047    5.361778e+03       8.000000   \n",
       "75%          0.880882    8.207866e+03      12.000000   \n",
       "max     323248.210242    1.359526e+06      58.000000   \n",
       "\n",
       "       overdue__more_than_90_days  mortgage_loans  overdue_60_89_days  \\\n",
       "count               105109.000000   105109.000000       105109.000000   \n",
       "mean                     0.269967        1.018514            0.244356   \n",
       "std                      4.227366        1.136228            4.214018   \n",
       "min                      0.000000        0.000000            0.000000   \n",
       "25%                      0.000000        0.000000            0.000000   \n",
       "50%                      0.000000        1.000000            0.000000   \n",
       "75%                      0.000000        2.000000            0.000000   \n",
       "max                     98.000000       54.000000           98.000000   \n",
       "\n",
       "       family_members  \n",
       "count   102304.000000  \n",
       "mean         0.757096  \n",
       "std          1.116525  \n",
       "min          0.000000  \n",
       "25%          0.000000  \n",
       "50%          0.000000  \n",
       "75%          1.000000  \n",
       "max         20.000000  "
      ]
     },
     "execution_count": 10,
     "metadata": {},
     "output_type": "execute_result"
    }
   ],
   "source": [
    "X.describe()"
   ]
  },
  {
   "cell_type": "markdown",
   "id": "66b6854b",
   "metadata": {},
   "source": [
    "# Анализ данных"
   ]
  },
  {
   "cell_type": "markdown",
   "id": "758afa7f-9d57-46ad-a4d3-287f4e9e59ec",
   "metadata": {},
   "source": [
    "### Гипотезы\n",
    "* Доход \"хороших\" заемщиков больше, по сравнению с \"плохими\" (распределения дохода в зависимости от флага дефолта смещено в большую сторону при default=0)\n",
    "* Чем старше человек,тем ниже возвратность, так как он умирает не успев расплатиться\n",
    "* когда много кредитов или высокая утилизация карт, чуваки не дефолтят, так как самофондируются другими кредитами\n",
    "* те у кого ипотека - парни понадежнее\n",
    "* размер долга влияет на выплату кредита\n",
    "* если доход 0, сильно выше шанс невыплаты кредита\n",
    "* утилизация кредитных карт сильно влияет на возвратность\n",
    "\n",
    "\n"
   ]
  },
  {
   "cell_type": "markdown",
   "id": "47688c4a-386c-436f-977c-5ff1ee22afd9",
   "metadata": {},
   "source": [
    "#### Проверка дохода"
   ]
  },
  {
   "cell_type": "code",
   "execution_count": 37,
   "id": "5b5f2365-7169-4d94-9a97-bab235ba41df",
   "metadata": {},
   "outputs": [
    {
     "data": {
      "image/png": "[encoded data removed]",
      "text/plain": [
       "<Figure size 440.875x360 with 1 Axes>"
      ]
     },
     "metadata": {
      "needs_background": "light"
     },
     "output_type": "display_data"
    }
   ],
   "source": [
    "df[\"_monthly_incomelog\"] = np.log(df.monthly_income)\n",
    "\n",
    "sns.displot(\n",
    "    {\n",
    "        \"default 0\": df[df.target == 0]._monthly_incomelog,\n",
    "        \"default 1\": df[df.target == 1]._monthly_incomelog\n",
    "    },\n",
    "    kind = \"kde\",\n",
    "    common_norm=False\n",
    ")\n",
    "plt.title('monthly_income', fontsize=20)\n",
    "plt.xlabel('monthly_income', fontsize=14)\n",
    "plt.ylabel('Dentsity', fontsize=14)\n",
    "\n",
    "plt.xticks(fontsize=14)\n",
    "plt.yticks(fontsize=14);"
   ]
  },
  {
   "cell_type": "markdown",
   "id": "1aabf57d-7b3a-4de9-a5e7-816185027ee5",
   "metadata": {},
   "source": [
    "Вообще никакой разницы, теоретически можно убрать этот показатель"
   ]
  },
  {
   "cell_type": "markdown",
   "id": "feb5d5d5-b584-460f-a7bc-707ddbea6695",
   "metadata": {},
   "source": [
    "#### Проверка возраста"
   ]
  },
  {
   "cell_type": "code",
   "execution_count": 18,
   "id": "779b8567-9558-4e63-a772-e3ecb1f2cd44",
   "metadata": {},
   "outputs": [
    {
     "data": {
      "image/png": "[encoded data removed]",
      "text/plain": [
       "<Figure size 440.875x360 with 1 Axes>"
      ]
     },
     "metadata": {
      "needs_background": "light"
     },
     "output_type": "display_data"
    }
   ],
   "source": [
    "sns.displot(\n",
    "    {\n",
    "        \"default 0\": df[df.target == 0].age,\n",
    "        \"default 1\": df[df.target == 1].age\n",
    "    },\n",
    "    kind = \"kde\",\n",
    "    common_norm=False\n",
    ")\n",
    "plt.title('Age', fontsize=20)\n",
    "plt.xlabel('Age', fontsize=14)\n",
    "plt.ylabel('Dentsity', fontsize=14)\n",
    "\n",
    "plt.xticks(fontsize=14)\n",
    "plt.yticks(fontsize=14);"
   ]
  },
  {
   "cell_type": "markdown",
   "id": "3297b1d2-485d-4f57-8073-63f683d32e4a",
   "metadata": {},
   "source": [
    "Есть подозрение, что после определенного возраста не выдают кредиты, тк правая часть графика \n",
    "очень похожа на левую часть, где не выдают кредиты до 21 года. Но так как нет дат выдачи, можно не проверять \n",
    "\n",
    "Но кажется, что старые платят лучше"
   ]
  },
  {
   "cell_type": "markdown",
   "id": "6e61a709-22d0-4851-a765-a7e638e450e6",
   "metadata": {},
   "source": [
    "### Проверка количества кредитов"
   ]
  },
  {
   "cell_type": "code",
   "execution_count": 41,
   "id": "6010f657-6011-4678-ac2e-29d5d5513fac",
   "metadata": {},
   "outputs": [
    {
     "data": {
      "image/png": "[encoded data removed]",
      "text/plain": [
       "<Figure size 440.875x360 with 1 Axes>"
      ]
     },
     "metadata": {
      "needs_background": "light"
     },
     "output_type": "display_data"
    }
   ],
   "source": [
    "sns.displot(\n",
    "    {\n",
    "        \"default 0\": df[df.target == 0].credits_loans,\n",
    "        \"default 1\": df[df.target == 1].credits_loans\n",
    "    },\n",
    "    kind = \"kde\",\n",
    "    common_norm=False\n",
    ")\n",
    "plt.title('credits_loans', fontsize=20)\n",
    "plt.xlabel('credits_loans', fontsize=14)\n",
    "plt.ylabel('Dentsity', fontsize=14)\n",
    "\n",
    "plt.xticks(fontsize=14)\n",
    "plt.yticks(fontsize=14);"
   ]
  },
  {
   "cell_type": "code",
   "execution_count": 44,
   "id": "171586c8-b2c5-4407-bec5-bea459fbc6bc",
   "metadata": {},
   "outputs": [
    {
     "data": {
      "image/png": "[encoded data removed]",
      "text/plain": [
       "<Figure size 440.875x360 with 1 Axes>"
      ]
     },
     "metadata": {
      "needs_background": "light"
     },
     "output_type": "display_data"
    }
   ],
   "source": [
    "df['_mortgage_loanslog'] = np.log(df.mortgage_loans)\n",
    "sns.displot(\n",
    "    {\n",
    "        \"default 0\": df[df.target == 0]._mortgage_loanslog,\n",
    "        \"default 1\": df[df.target == 1]._mortgage_loanslog\n",
    "    },\n",
    "    kind = \"kde\",\n",
    "    common_norm=False\n",
    ")\n",
    "plt.title('_mortgage_loanslog', fontsize=20)\n",
    "plt.xlabel('_mortgage_loanslog', fontsize=14)\n",
    "plt.ylabel('Dentsity', fontsize=14)\n",
    "\n",
    "plt.xticks(fontsize=14)\n",
    "plt.yticks(fontsize=14);"
   ]
  },
  {
   "cell_type": "markdown",
   "id": "16a8d137-5f6e-42da-b1bd-798c8f54f8ab",
   "metadata": {},
   "source": [
    "### Размер долга"
   ]
  },
  {
   "cell_type": "code",
   "execution_count": 49,
   "id": "0f804e38-1ff6-46bf-a94d-73b38201c634",
   "metadata": {},
   "outputs": [
    {
     "data": {
      "text/html": [
       "<div>\n",
       "<style scoped>\n",
       "    .dataframe tbody tr th:only-of-type {\n",
       "        vertical-align: middle;\n",
       "    }\n",
       "\n",
       "    .dataframe tbody tr th {\n",
       "        vertical-align: top;\n",
       "    }\n",
       "\n",
       "    .dataframe thead th {\n",
       "        text-align: right;\n",
       "    }\n",
       "</style>\n",
       "<table border=\"1\" class=\"dataframe\">\n",
       "  <thead>\n",
       "    <tr style=\"text-align: right;\">\n",
       "      <th></th>\n",
       "      <th>credit_card_utilization</th>\n",
       "      <th>age</th>\n",
       "      <th>overdue_30_59_days</th>\n",
       "      <th>debt_to_income</th>\n",
       "      <th>monthly_income</th>\n",
       "      <th>credits_loans</th>\n",
       "      <th>overdue__more_than_90_days</th>\n",
       "      <th>mortgage_loans</th>\n",
       "      <th>overdue_60_89_days</th>\n",
       "      <th>family_members</th>\n",
       "      <th>target</th>\n",
       "      <th>_monthly_incomelog</th>\n",
       "      <th>_mortgage_loanslog</th>\n",
       "      <th>_debt</th>\n",
       "    </tr>\n",
       "  </thead>\n",
       "  <tbody>\n",
       "    <tr>\n",
       "      <th>16827</th>\n",
       "      <td>0.489541</td>\n",
       "      <td>64</td>\n",
       "      <td>1</td>\n",
       "      <td>2.095962</td>\n",
       "      <td>15434.118275</td>\n",
       "      <td>31</td>\n",
       "      <td>0</td>\n",
       "      <td>2</td>\n",
       "      <td>1</td>\n",
       "      <td>1.0</td>\n",
       "      <td>0</td>\n",
       "      <td>9.644336</td>\n",
       "      <td>0.693147</td>\n",
       "      <td>388191.890904</td>\n",
       "    </tr>\n",
       "    <tr>\n",
       "      <th>41160</th>\n",
       "      <td>0.478751</td>\n",
       "      <td>45</td>\n",
       "      <td>3</td>\n",
       "      <td>0.324620</td>\n",
       "      <td>5615.241240</td>\n",
       "      <td>9</td>\n",
       "      <td>2</td>\n",
       "      <td>1</td>\n",
       "      <td>2</td>\n",
       "      <td>1.0</td>\n",
       "      <td>0</td>\n",
       "      <td>8.633240</td>\n",
       "      <td>0.000000</td>\n",
       "      <td>21873.860360</td>\n",
       "    </tr>\n",
       "    <tr>\n",
       "      <th>102752</th>\n",
       "      <td>0.228691</td>\n",
       "      <td>64</td>\n",
       "      <td>0</td>\n",
       "      <td>0.345888</td>\n",
       "      <td>7463.334668</td>\n",
       "      <td>16</td>\n",
       "      <td>0</td>\n",
       "      <td>1</td>\n",
       "      <td>0</td>\n",
       "      <td>3.0</td>\n",
       "      <td>0</td>\n",
       "      <td>8.917758</td>\n",
       "      <td>0.000000</td>\n",
       "      <td>30977.765409</td>\n",
       "    </tr>\n",
       "    <tr>\n",
       "      <th>65082</th>\n",
       "      <td>0.028814</td>\n",
       "      <td>54</td>\n",
       "      <td>0</td>\n",
       "      <td>0.619527</td>\n",
       "      <td>9856.662525</td>\n",
       "      <td>13</td>\n",
       "      <td>0</td>\n",
       "      <td>3</td>\n",
       "      <td>0</td>\n",
       "      <td>1.0</td>\n",
       "      <td>1</td>\n",
       "      <td>9.195903</td>\n",
       "      <td>1.098612</td>\n",
       "      <td>73277.600812</td>\n",
       "    </tr>\n",
       "    <tr>\n",
       "      <th>58788</th>\n",
       "      <td>0.548023</td>\n",
       "      <td>56</td>\n",
       "      <td>1</td>\n",
       "      <td>0.264042</td>\n",
       "      <td>1381.429751</td>\n",
       "      <td>4</td>\n",
       "      <td>0</td>\n",
       "      <td>0</td>\n",
       "      <td>0</td>\n",
       "      <td>1.0</td>\n",
       "      <td>0</td>\n",
       "      <td>7.230874</td>\n",
       "      <td>-inf</td>\n",
       "      <td>4377.060662</td>\n",
       "    </tr>\n",
       "    <tr>\n",
       "      <th>45250</th>\n",
       "      <td>0.186372</td>\n",
       "      <td>65</td>\n",
       "      <td>0</td>\n",
       "      <td>0.397872</td>\n",
       "      <td>2684.455084</td>\n",
       "      <td>13</td>\n",
       "      <td>0</td>\n",
       "      <td>1</td>\n",
       "      <td>0</td>\n",
       "      <td>0.0</td>\n",
       "      <td>0</td>\n",
       "      <td>7.895233</td>\n",
       "      <td>0.000000</td>\n",
       "      <td>12816.826983</td>\n",
       "    </tr>\n",
       "    <tr>\n",
       "      <th>68660</th>\n",
       "      <td>0.204790</td>\n",
       "      <td>54</td>\n",
       "      <td>0</td>\n",
       "      <td>0.333855</td>\n",
       "      <td>4222.011511</td>\n",
       "      <td>12</td>\n",
       "      <td>0</td>\n",
       "      <td>1</td>\n",
       "      <td>0</td>\n",
       "      <td>2.0</td>\n",
       "      <td>0</td>\n",
       "      <td>8.348067</td>\n",
       "      <td>0.000000</td>\n",
       "      <td>16914.466825</td>\n",
       "    </tr>\n",
       "    <tr>\n",
       "      <th>8989</th>\n",
       "      <td>0.990179</td>\n",
       "      <td>29</td>\n",
       "      <td>0</td>\n",
       "      <td>0.051010</td>\n",
       "      <td>6465.702639</td>\n",
       "      <td>1</td>\n",
       "      <td>1</td>\n",
       "      <td>0</td>\n",
       "      <td>0</td>\n",
       "      <td>0.0</td>\n",
       "      <td>1</td>\n",
       "      <td>8.774267</td>\n",
       "      <td>-inf</td>\n",
       "      <td>3957.775597</td>\n",
       "    </tr>\n",
       "    <tr>\n",
       "      <th>102418</th>\n",
       "      <td>0.307678</td>\n",
       "      <td>53</td>\n",
       "      <td>0</td>\n",
       "      <td>1.352378</td>\n",
       "      <td>981.712365</td>\n",
       "      <td>7</td>\n",
       "      <td>0</td>\n",
       "      <td>1</td>\n",
       "      <td>0</td>\n",
       "      <td>2.0</td>\n",
       "      <td>0</td>\n",
       "      <td>6.889298</td>\n",
       "      <td>0.000000</td>\n",
       "      <td>15931.753887</td>\n",
       "    </tr>\n",
       "    <tr>\n",
       "      <th>40910</th>\n",
       "      <td>0.365214</td>\n",
       "      <td>49</td>\n",
       "      <td>0</td>\n",
       "      <td>0.364731</td>\n",
       "      <td>13341.812071</td>\n",
       "      <td>14</td>\n",
       "      <td>0</td>\n",
       "      <td>3</td>\n",
       "      <td>0</td>\n",
       "      <td>2.0</td>\n",
       "      <td>1</td>\n",
       "      <td>9.498658</td>\n",
       "      <td>1.098612</td>\n",
       "      <td>58394.004901</td>\n",
       "    </tr>\n",
       "  </tbody>\n",
       "</table>\n",
       "</div>"
      ],
      "text/plain": [
       "        credit_card_utilization  age  overdue_30_59_days  debt_to_income  \\\n",
       "16827                  0.489541   64                   1        2.095962   \n",
       "41160                  0.478751   45                   3        0.324620   \n",
       "102752                 0.228691   64                   0        0.345888   \n",
       "65082                  0.028814   54                   0        0.619527   \n",
       "58788                  0.548023   56                   1        0.264042   \n",
       "45250                  0.186372   65                   0        0.397872   \n",
       "68660                  0.204790   54                   0        0.333855   \n",
       "8989                   0.990179   29                   0        0.051010   \n",
       "102418                 0.307678   53                   0        1.352378   \n",
       "40910                  0.365214   49                   0        0.364731   \n",
       "\n",
       "        monthly_income  credits_loans  overdue__more_than_90_days  \\\n",
       "16827     15434.118275             31                           0   \n",
       "41160      5615.241240              9                           2   \n",
       "102752     7463.334668             16                           0   \n",
       "65082      9856.662525             13                           0   \n",
       "58788      1381.429751              4                           0   \n",
       "45250      2684.455084             13                           0   \n",
       "68660      4222.011511             12                           0   \n",
       "8989       6465.702639              1                           1   \n",
       "102418      981.712365              7                           0   \n",
       "40910     13341.812071             14                           0   \n",
       "\n",
       "        mortgage_loans  overdue_60_89_days  family_members  target  \\\n",
       "16827                2                   1             1.0       0   \n",
       "41160                1                   2             1.0       0   \n",
       "102752               1                   0             3.0       0   \n",
       "65082                3                   0             1.0       1   \n",
       "58788                0                   0             1.0       0   \n",
       "45250                1                   0             0.0       0   \n",
       "68660                1                   0             2.0       0   \n",
       "8989                 0                   0             0.0       1   \n",
       "102418               1                   0             2.0       0   \n",
       "40910                3                   0             2.0       1   \n",
       "\n",
       "        _monthly_incomelog  _mortgage_loanslog          _debt  \n",
       "16827             9.644336            0.693147  388191.890904  \n",
       "41160             8.633240            0.000000   21873.860360  \n",
       "102752            8.917758            0.000000   30977.765409  \n",
       "65082             9.195903            1.098612   73277.600812  \n",
       "58788             7.230874                -inf    4377.060662  \n",
       "45250             7.895233            0.000000   12816.826983  \n",
       "68660             8.348067            0.000000   16914.466825  \n",
       "8989              8.774267                -inf    3957.775597  \n",
       "102418            6.889298            0.000000   15931.753887  \n",
       "40910             9.498658            1.098612   58394.004901  "
      ]
     },
     "execution_count": 49,
     "metadata": {},
     "output_type": "execute_result"
    }
   ],
   "source": [
    "df['_debt'] = df.debt_to_income * (df.monthly_income * 12) # Получаются очень маленькие числа, очевидно расчет шел от года\n",
    "df.sample(10)"
   ]
  },
  {
   "cell_type": "code",
   "execution_count": 51,
   "id": "712ee33f-a37a-4afd-aef1-14fed3b99e23",
   "metadata": {},
   "outputs": [
    {
     "data": {
      "image/png": "[encoded data removed]",
      "text/plain": [
       "<Figure size 440.875x360 with 1 Axes>"
      ]
     },
     "metadata": {
      "needs_background": "light"
     },
     "output_type": "display_data"
    }
   ],
   "source": [
    "df['_debt_log'] = np.log(df._debt)\n",
    "sns.displot(\n",
    "    {\n",
    "        \"default 0\": df[df.target == 0]._debt_log,\n",
    "        \"default 1\": df[df.target == 1]._debt_log\n",
    "    },\n",
    "    kind = \"kde\",\n",
    "    common_norm=False\n",
    ")\n",
    "plt.title('_debt_log', fontsize=20)\n",
    "plt.xlabel('_debt_log', fontsize=14)\n",
    "plt.ylabel('Dentsity', fontsize=14)\n",
    "\n",
    "plt.xticks(fontsize=14)\n",
    "plt.yticks(fontsize=14);"
   ]
  },
  {
   "cell_type": "code",
   "execution_count": 88,
   "id": "f91e99af",
   "metadata": {
    "scrolled": true
   },
   "outputs": [
    {
     "data": {
      "text/html": [
       "<div>\n",
       "<style scoped>\n",
       "    .dataframe tbody tr th:only-of-type {\n",
       "        vertical-align: middle;\n",
       "    }\n",
       "\n",
       "    .dataframe tbody tr th {\n",
       "        vertical-align: top;\n",
       "    }\n",
       "\n",
       "    .dataframe thead th {\n",
       "        text-align: right;\n",
       "    }\n",
       "</style>\n",
       "<table border=\"1\" class=\"dataframe\">\n",
       "  <thead>\n",
       "    <tr style=\"text-align: right;\">\n",
       "      <th></th>\n",
       "      <th>credit_card_utilization</th>\n",
       "      <th>age</th>\n",
       "      <th>overdue_30_59_days</th>\n",
       "      <th>debt_to_income</th>\n",
       "      <th>monthly_income</th>\n",
       "      <th>credits_loans</th>\n",
       "      <th>overdue__more_than_90_days</th>\n",
       "      <th>mortgage_loans</th>\n",
       "      <th>overdue_60_89_days</th>\n",
       "      <th>family_members</th>\n",
       "    </tr>\n",
       "  </thead>\n",
       "  <tbody>\n",
       "    <tr>\n",
       "      <th>52549</th>\n",
       "      <td>0.084998</td>\n",
       "      <td>24</td>\n",
       "      <td>0</td>\n",
       "      <td>2213.015204</td>\n",
       "      <td>0.0</td>\n",
       "      <td>5</td>\n",
       "      <td>0</td>\n",
       "      <td>1</td>\n",
       "      <td>0</td>\n",
       "      <td>0.0</td>\n",
       "    </tr>\n",
       "    <tr>\n",
       "      <th>36016</th>\n",
       "      <td>0.000000</td>\n",
       "      <td>29</td>\n",
       "      <td>0</td>\n",
       "      <td>506.503879</td>\n",
       "      <td>0.0</td>\n",
       "      <td>3</td>\n",
       "      <td>0</td>\n",
       "      <td>0</td>\n",
       "      <td>0</td>\n",
       "      <td>1.0</td>\n",
       "    </tr>\n",
       "    <tr>\n",
       "      <th>21243</th>\n",
       "      <td>0.810952</td>\n",
       "      <td>38</td>\n",
       "      <td>0</td>\n",
       "      <td>2272.536202</td>\n",
       "      <td>0.0</td>\n",
       "      <td>4</td>\n",
       "      <td>0</td>\n",
       "      <td>1</td>\n",
       "      <td>0</td>\n",
       "      <td>0.0</td>\n",
       "    </tr>\n",
       "    <tr>\n",
       "      <th>92988</th>\n",
       "      <td>0.649289</td>\n",
       "      <td>52</td>\n",
       "      <td>0</td>\n",
       "      <td>4371.100602</td>\n",
       "      <td>0.0</td>\n",
       "      <td>10</td>\n",
       "      <td>0</td>\n",
       "      <td>1</td>\n",
       "      <td>0</td>\n",
       "      <td>2.0</td>\n",
       "    </tr>\n",
       "    <tr>\n",
       "      <th>11353</th>\n",
       "      <td>0.000000</td>\n",
       "      <td>32</td>\n",
       "      <td>0</td>\n",
       "      <td>1550.628741</td>\n",
       "      <td>0.0</td>\n",
       "      <td>3</td>\n",
       "      <td>0</td>\n",
       "      <td>1</td>\n",
       "      <td>0</td>\n",
       "      <td>0.0</td>\n",
       "    </tr>\n",
       "  </tbody>\n",
       "</table>\n",
       "</div>"
      ],
      "text/plain": [
       "       credit_card_utilization  age  overdue_30_59_days  debt_to_income  \\\n",
       "52549                 0.084998   24                   0     2213.015204   \n",
       "36016                 0.000000   29                   0      506.503879   \n",
       "21243                 0.810952   38                   0     2272.536202   \n",
       "92988                 0.649289   52                   0     4371.100602   \n",
       "11353                 0.000000   32                   0     1550.628741   \n",
       "\n",
       "       monthly_income  credits_loans  overdue__more_than_90_days  \\\n",
       "52549             0.0              5                           0   \n",
       "36016             0.0              3                           0   \n",
       "21243             0.0              4                           0   \n",
       "92988             0.0             10                           0   \n",
       "11353             0.0              3                           0   \n",
       "\n",
       "       mortgage_loans  overdue_60_89_days  family_members  \n",
       "52549               1                   0             0.0  \n",
       "36016               0                   0             1.0  \n",
       "21243               1                   0             0.0  \n",
       "92988               1                   0             2.0  \n",
       "11353               1                   0             0.0  "
      ]
     },
     "execution_count": 88,
     "metadata": {},
     "output_type": "execute_result"
    }
   ],
   "source": [
    "X_mod = X.sort_values(by = [\"monthly_income\"])\n",
    "X_mod.head() # Почему у нищебродов D/I не 0. Берется средее? Показатель дохода не актуален? Берется средний годовой показатель дохода?"
   ]
  },
  {
   "cell_type": "markdown",
   "id": "351f179d-86a7-43d0-a78a-b99ccdf79ace",
   "metadata": {},
   "source": [
    "### What is overdue"
   ]
  },
  {
   "cell_type": "code",
   "execution_count": 208,
   "id": "05bf1c4c-4da1-4bf2-a507-4e980859e648",
   "metadata": {},
   "outputs": [
    {
     "data": {
      "text/plain": [
       "overdue_30_59_days\n",
       "0     0.839709\n",
       "1     0.107155\n",
       "2     0.030759\n",
       "3     0.011626\n",
       "4     0.004995\n",
       "5     0.002293\n",
       "6     0.000970\n",
       "7     0.000352\n",
       "8     0.000162\n",
       "9     0.000076\n",
       "10    0.000038\n",
       "11    0.000010\n",
       "12    0.000010\n",
       "96    0.000048\n",
       "98    0.001798\n",
       "Name: count, dtype: float64"
      ]
     },
     "execution_count": 208,
     "metadata": {},
     "output_type": "execute_result"
    }
   ],
   "source": [
    "df['count'] = df.index\n",
    "df.groupby('overdue_30_59_days')['count'].nunique() / df.shape[0]\n"
   ]
  },
  {
   "cell_type": "code",
   "execution_count": 207,
   "id": "eae21317-c219-4c94-9d20-93d35e4bb7f7",
   "metadata": {},
   "outputs": [
    {
     "data": {
      "text/plain": [
       "overdue__more_than_90_days\n",
       "0     0.944943\n",
       "1     0.034459\n",
       "2     0.010332\n",
       "3     0.004386\n",
       "4     0.001988\n",
       "5     0.000942\n",
       "6     0.000457\n",
       "7     0.000228\n",
       "8     0.000171\n",
       "9     0.000124\n",
       "10    0.000038\n",
       "11    0.000029\n",
       "12    0.000019\n",
       "13    0.000038\n",
       "96    0.000048\n",
       "98    0.001798\n",
       "Name: count, dtype: float64"
      ]
     },
     "execution_count": 207,
     "metadata": {},
     "output_type": "execute_result"
    }
   ],
   "source": [
    "df['count'] = df.index\n",
    "df.groupby('overdue__more_than_90_days')['count'].nunique() / df.shape[0]\n"
   ]
  },
  {
   "cell_type": "markdown",
   "id": "e199e865-0ba5-4d1e-9d11-0cec2eedde6f",
   "metadata": {},
   "source": [
    "### Corr"
   ]
  },
  {
   "cell_type": "code",
   "execution_count": 97,
   "id": "828f4325-4568-4085-b93f-c13a52fbeaa9",
   "metadata": {},
   "outputs": [
    {
     "data": {
      "image/png": "[encoded data removed]",
      "text/plain": [
       "<Figure size 720x576 with 2 Axes>"
      ]
     },
     "metadata": {
      "needs_background": "light"
     },
     "output_type": "display_data"
    }
   ],
   "source": [
    "cor_matrix = np.triu(X.corr(method='spearman'))\n",
    "plt.figure(figsize=(10, 8))\n",
    "sns.heatmap(X.corr(method='spearman'), mask = cor_matrix,  annot=True, fmt=\".1f\");"
   ]
  },
  {
   "cell_type": "markdown",
   "id": "dd9ea7e1-65bd-4e1e-8809-3f07827ef121",
   "metadata": {},
   "source": [
    "Мультиколлинеарности не выявленоmь"
   ]
  },
  {
   "cell_type": "markdown",
   "id": "fdb2523b",
   "metadata": {},
   "source": [
    "## Заполняем пропуски"
   ]
  },
  {
   "cell_type": "markdown",
   "id": "ed342440",
   "metadata": {},
   "source": [
    "### Доход"
   ]
  },
  {
   "cell_type": "code",
   "execution_count": 110,
   "id": "68af8173",
   "metadata": {},
   "outputs": [
    {
     "data": {
      "text/html": [
       "<div>\n",
       "<style scoped>\n",
       "    .dataframe tbody tr th:only-of-type {\n",
       "        vertical-align: middle;\n",
       "    }\n",
       "\n",
       "    .dataframe tbody tr th {\n",
       "        vertical-align: top;\n",
       "    }\n",
       "\n",
       "    .dataframe thead th {\n",
       "        text-align: right;\n",
       "    }\n",
       "</style>\n",
       "<table border=\"1\" class=\"dataframe\">\n",
       "  <thead>\n",
       "    <tr style=\"text-align: right;\">\n",
       "      <th></th>\n",
       "      <th>monthly_income</th>\n",
       "      <th>family_members</th>\n",
       "    </tr>\n",
       "  </thead>\n",
       "  <tbody>\n",
       "    <tr>\n",
       "      <th>count</th>\n",
       "      <td>8.411600e+04</td>\n",
       "      <td>102304.000000</td>\n",
       "    </tr>\n",
       "    <tr>\n",
       "      <th>mean</th>\n",
       "      <td>6.649725e+03</td>\n",
       "      <td>0.757096</td>\n",
       "    </tr>\n",
       "    <tr>\n",
       "      <th>std</th>\n",
       "      <td>1.106504e+04</td>\n",
       "      <td>1.116525</td>\n",
       "    </tr>\n",
       "    <tr>\n",
       "      <th>min</th>\n",
       "      <td>0.000000e+00</td>\n",
       "      <td>0.000000</td>\n",
       "    </tr>\n",
       "    <tr>\n",
       "      <th>25%</th>\n",
       "      <td>3.343201e+03</td>\n",
       "      <td>0.000000</td>\n",
       "    </tr>\n",
       "    <tr>\n",
       "      <th>50%</th>\n",
       "      <td>5.361778e+03</td>\n",
       "      <td>0.000000</td>\n",
       "    </tr>\n",
       "    <tr>\n",
       "      <th>75%</th>\n",
       "      <td>8.207866e+03</td>\n",
       "      <td>1.000000</td>\n",
       "    </tr>\n",
       "    <tr>\n",
       "      <th>max</th>\n",
       "      <td>1.359526e+06</td>\n",
       "      <td>20.000000</td>\n",
       "    </tr>\n",
       "  </tbody>\n",
       "</table>\n",
       "</div>"
      ],
      "text/plain": [
       "       monthly_income  family_members\n",
       "count    8.411600e+04   102304.000000\n",
       "mean     6.649725e+03        0.757096\n",
       "std      1.106504e+04        1.116525\n",
       "min      0.000000e+00        0.000000\n",
       "25%      3.343201e+03        0.000000\n",
       "50%      5.361778e+03        0.000000\n",
       "75%      8.207866e+03        1.000000\n",
       "max      1.359526e+06       20.000000"
      ]
     },
     "execution_count": 110,
     "metadata": {},
     "output_type": "execute_result"
    }
   ],
   "source": [
    "X.loc[:,['monthly_income', 'family_members']].describe()"
   ]
  },
  {
   "cell_type": "code",
   "execution_count": 112,
   "id": "d7c9335f-9e45-435b-ab6c-79c7aa005465",
   "metadata": {},
   "outputs": [
    {
     "data": {
      "text/plain": [
       "<seaborn.axisgrid.FacetGrid at 0x7fc77bba05e0>"
      ]
     },
     "execution_count": 112,
     "metadata": {},
     "output_type": "execute_result"
    },
    {
     "data": {
      "image/png": "[encoded data removed]",
      "text/plain": [
       "<Figure size 360x360 with 1 Axes>"
      ]
     },
     "metadata": {
      "needs_background": "light"
     },
     "output_type": "display_data"
    }
   ],
   "source": [
    "sns.displot(np.log(X['monthly_income']))"
   ]
  },
  {
   "cell_type": "code",
   "execution_count": 152,
   "id": "0486d7ed-714d-479f-9150-1bdf2f636a27",
   "metadata": {},
   "outputs": [],
   "source": [
    "X['monthly_income'].fillna(np.mean(X[X['monthly_income'] > 0]['monthly_income']), inplace=True) # Заполняем средним от ненулевых значений"
   ]
  },
  {
   "cell_type": "markdown",
   "id": "20847141-8207-4226-a907-eeca21b95c39",
   "metadata": {},
   "source": [
    "### Количество людей в семье"
   ]
  },
  {
   "cell_type": "code",
   "execution_count": 136,
   "id": "e4aa504c-a097-4062-a083-5c6aac2eb525",
   "metadata": {},
   "outputs": [
    {
     "data": {
      "text/plain": [
       "<seaborn.axisgrid.FacetGrid at 0x7fc739541c10>"
      ]
     },
     "execution_count": 136,
     "metadata": {},
     "output_type": "execute_result"
    },
    {
     "data": {
      "image/png": "[encoded data removed]",
      "text/plain": [
       "<Figure size 360x360 with 1 Axes>"
      ]
     },
     "metadata": {
      "needs_background": "light"
     },
     "output_type": "display_data"
    }
   ],
   "source": [
    "sns.displot((X['family_members']),kind = \"kde\",common_norm=False)"
   ]
  },
  {
   "cell_type": "code",
   "execution_count": 120,
   "id": "53ae4c90",
   "metadata": {},
   "outputs": [
    {
     "data": {
      "text/plain": [
       "0.0"
      ]
     },
     "execution_count": 120,
     "metadata": {},
     "output_type": "execute_result"
    }
   ],
   "source": [
    "X.family_members.median()"
   ]
  },
  {
   "cell_type": "code",
   "execution_count": 121,
   "id": "61bf4372-cebc-47a9-9f1e-a26871503b7e",
   "metadata": {},
   "outputs": [
    {
     "data": {
      "text/plain": [
       "0    0.0\n",
       "dtype: float64"
      ]
     },
     "execution_count": 121,
     "metadata": {},
     "output_type": "execute_result"
    }
   ],
   "source": [
    "X.family_members.mode()"
   ]
  },
  {
   "cell_type": "code",
   "execution_count": 122,
   "id": "74e3ee55-f68e-426e-ab8b-a87b0bf5dd73",
   "metadata": {},
   "outputs": [
    {
     "data": {
      "text/plain": [
       "0.7570964967156709"
      ]
     },
     "execution_count": 122,
     "metadata": {},
     "output_type": "execute_result"
    }
   ],
   "source": [
    "X.family_members.mean()"
   ]
  },
  {
   "cell_type": "code",
   "execution_count": 154,
   "id": "02cdc144-b09e-4d0d-a466-ed5b1a8ef7e7",
   "metadata": {},
   "outputs": [],
   "source": [
    "X['family_members'].fillna(0, inplace=True) # Заполняем средним от ненулевых значений"
   ]
  },
  {
   "cell_type": "code",
   "execution_count": 155,
   "id": "b521e8be-3827-44bf-b02e-6f38082dfb59",
   "metadata": {},
   "outputs": [
    {
     "data": {
      "text/plain": [
       "credit_card_utilization       0\n",
       "age                           0\n",
       "overdue_30_59_days            0\n",
       "debt_to_income                0\n",
       "monthly_income                0\n",
       "credits_loans                 0\n",
       "overdue__more_than_90_days    0\n",
       "mortgage_loans                0\n",
       "overdue_60_89_days            0\n",
       "family_members                0\n",
       "dtype: int64"
      ]
     },
     "execution_count": 155,
     "metadata": {},
     "output_type": "execute_result"
    }
   ],
   "source": [
    "X.isna().sum()"
   ]
  },
  {
   "cell_type": "markdown",
   "id": "a012c766-3bc7-487f-b72a-6cefd2265a43",
   "metadata": {},
   "source": [
    "# Логистическая регрессия"
   ]
  },
  {
   "cell_type": "markdown",
   "id": "93e2cce9-5fca-409d-9c5d-2c6d6f488ea7",
   "metadata": {},
   "source": [
    "## Не серьезная"
   ]
  },
  {
   "cell_type": "code",
   "execution_count": 156,
   "id": "7244bf39-667f-4f2b-923c-930c52e5c605",
   "metadata": {},
   "outputs": [],
   "source": [
    "X_train, X_test, y_train, y_test = train_test_split(X, y, test_size=.25, stratify = y, shuffle = True, random_state = RAND)"
   ]
  },
  {
   "cell_type": "code",
   "execution_count": 158,
   "id": "5c757a37-1d39-4e05-beff-ab00438510e1",
   "metadata": {},
   "outputs": [],
   "source": [
    "lr_lol = LogisticRegression(class_weight = 'balanced')\n",
    "lr_lol.fit(X_train, y_train)\n",
    "\n",
    "y_pred = lr_lol.predict(X_test)\n",
    "y_score = lr_lol.predict_proba(X_test)[:,1]"
   ]
  },
  {
   "cell_type": "code",
   "execution_count": 164,
   "id": "c841a06a-3bf1-43df-91de-9118a0ae2ddb",
   "metadata": {},
   "outputs": [
    {
     "data": {
      "text/html": [
       "<div>\n",
       "<style scoped>\n",
       "    .dataframe tbody tr th:only-of-type {\n",
       "        vertical-align: middle;\n",
       "    }\n",
       "\n",
       "    .dataframe tbody tr th {\n",
       "        vertical-align: top;\n",
       "    }\n",
       "\n",
       "    .dataframe thead th {\n",
       "        text-align: right;\n",
       "    }\n",
       "</style>\n",
       "<table border=\"1\" class=\"dataframe\">\n",
       "  <thead>\n",
       "    <tr style=\"text-align: right;\">\n",
       "      <th></th>\n",
       "      <th>Lol_lr</th>\n",
       "    </tr>\n",
       "  </thead>\n",
       "  <tbody>\n",
       "    <tr>\n",
       "      <th>roc-auc</th>\n",
       "      <td>0.811092</td>\n",
       "    </tr>\n",
       "    <tr>\n",
       "      <th>precision</th>\n",
       "      <td>0.270833</td>\n",
       "    </tr>\n",
       "    <tr>\n",
       "      <th>recall</th>\n",
       "      <td>0.554608</td>\n",
       "    </tr>\n",
       "    <tr>\n",
       "      <th>f1</th>\n",
       "      <td>0.363942</td>\n",
       "    </tr>\n",
       "    <tr>\n",
       "      <th>logloss</th>\n",
       "      <td>4.479422</td>\n",
       "    </tr>\n",
       "  </tbody>\n",
       "</table>\n",
       "</div>"
      ],
      "text/plain": [
       "             Lol_lr\n",
       "roc-auc    0.811092\n",
       "precision  0.270833\n",
       "recall     0.554608\n",
       "f1         0.363942\n",
       "logloss    4.479422"
      ]
     },
     "execution_count": 164,
     "metadata": {},
     "output_type": "execute_result"
    }
   ],
   "source": [
    "metrics = pd.DataFrame(\n",
    "    index=['roc-auc', 'precision', 'recall', 'f1', 'logloss'])\n",
    "\n",
    "metrics['Lol_lr'] = (roc_auc_score(y_test, y_score),\n",
    "precision_score(y_test, y_pred),\n",
    "recall_score(y_test, y_pred),\n",
    "f1_score(y_test, y_pred),\n",
    "log_loss(y_test, y_pred))\n",
    "metrics"
   ]
  },
  {
   "cell_type": "code",
   "execution_count": 187,
   "id": "742fe1a0-53ce-4a7d-bb82-a3bea8d88dbf",
   "metadata": {},
   "outputs": [
    {
     "data": {
      "image/png": "[encoded data removed]",
      "text/plain": [
       "<Figure size 432x288 with 1 Axes>"
      ]
     },
     "metadata": {
      "needs_background": "light"
     },
     "output_type": "display_data"
    }
   ],
   "source": [
    "fpr, tpr, thresholds = roc_curve(y_test, y_score)\n",
    "\n",
    "roc_auc = auc(fpr, tpr)\n",
    "\n",
    "plt.plot(fpr, tpr, color='darkorange', label='ROC curve (area = %0.2f)' % roc_auc)\n",
    "plt.plot([0, 1], [0, 1], color='navy', lw=2, linestyle='--')\n",
    "plt.xlim([0.0, 1.0])\n",
    "plt.ylim([0.0, 1.05])\n",
    "\n",
    "plt.xlabel('False Positive Rate')\n",
    "plt.ylabel('True Positive Rate')\n",
    "\n",
    "plt.title('Logistic Regression ROC AUC = %0.3f' % roc_auc)\n",
    "plt.legend(loc=\"lower right\")\n",
    "plt.show()"
   ]
  },
  {
   "cell_type": "markdown",
   "id": "fbe4c78f-0dc2-4303-b545-6ceb3fde168c",
   "metadata": {},
   "source": [
    "### Серьезная"
   ]
  },
  {
   "cell_type": "code",
   "execution_count": 168,
   "id": "cd79fb9a-746c-4f2e-9e06-bee3d205642c",
   "metadata": {},
   "outputs": [],
   "source": [
    "parameters_grid = {\n",
    "    'penalty': ['l1', 'l2', 'elasticnet'],\n",
    "    'C': np.linspace(1, 1000, num=5),\n",
    "    'solver': ['sag', 'saga', 'lbfgs'],\n",
    "    'l1_ratio': [0.25, 0.5, 0.75],\n",
    "    'max_iter': np.arange(100, 500, 100)\n",
    "}\n",
    "\n",
    "lr = LogisticRegression(class_weight='balanced')\n",
    "cv = StratifiedKFold(n_splits=3, shuffle=True)\n",
    "grid_cv = GridSearchCV(lr, parameters_grid,\n",
    "                       scoring='roc_auc', cv=cv, verbose=2)"
   ]
  },
  {
   "cell_type": "code",
   "execution_count": 174,
   "id": "219168c3-1fb4-4e0f-8786-622854c46b56",
   "metadata": {},
   "outputs": [
    {
     "name": "stdout",
     "output_type": "stream",
     "text": [
      "CPU times: user 3 µs, sys: 1e+03 ns, total: 4 µs\n",
      "Wall time: 9.3 µs\n"
     ]
    }
   ],
   "source": [
    "%%time\n",
    "#grid_cv.fit(X_train, y_train)"
   ]
  },
  {
   "cell_type": "code",
   "execution_count": 172,
   "id": "f4f3dc15-d7b7-4241-9c6e-e70efad271d0",
   "metadata": {},
   "outputs": [
    {
     "data": {
      "text/plain": [
       "{'C': 500.5,\n",
       " 'l1_ratio': 0.25,\n",
       " 'max_iter': 100,\n",
       " 'penalty': 'l2',\n",
       " 'solver': 'lbfgs'}"
      ]
     },
     "execution_count": 172,
     "metadata": {},
     "output_type": "execute_result"
    }
   ],
   "source": [
    "grid_cv.best_params_"
   ]
  },
  {
   "cell_type": "code",
   "execution_count": 173,
   "id": "8438b314-2ae7-4745-a797-22d3334b956a",
   "metadata": {},
   "outputs": [
    {
     "data": {
      "text/plain": [
       "0.8111756729505774"
      ]
     },
     "execution_count": 173,
     "metadata": {},
     "output_type": "execute_result"
    }
   ],
   "source": [
    "grid_cv.best_score_"
   ]
  },
  {
   "cell_type": "code",
   "execution_count": 176,
   "id": "db3b5c70-2ef9-4231-a21c-0be27525dbf4",
   "metadata": {},
   "outputs": [],
   "source": [
    "best_params = {'C': 500.5,\n",
    " 'l1_ratio': 0.25,\n",
    " 'max_iter': 100,\n",
    " 'penalty': 'l2',\n",
    " 'solver': 'lbfgs'}"
   ]
  },
  {
   "cell_type": "code",
   "execution_count": 182,
   "id": "dfee82d1-ce19-4a6c-96ac-c172cb054ad7",
   "metadata": {},
   "outputs": [],
   "source": [
    "lr_gr = LogisticRegression(**best_params, class_weight='balanced')\n",
    "lr_gr.fit(X_train, y_train)\n",
    "\n",
    "y_pred_gr = lr_gr.predict(X_test)\n",
    "y_score_gr = lr_gr.predict_proba(X_test)[:,1]"
   ]
  },
  {
   "cell_type": "code",
   "execution_count": 186,
   "id": "f41a0cfe-79b3-489a-9269-acbacb7c7f9c",
   "metadata": {},
   "outputs": [
    {
     "data": {
      "image/png": "[encoded data removed]",
      "text/plain": [
       "<Figure size 432x288 with 1 Axes>"
      ]
     },
     "metadata": {
      "needs_background": "light"
     },
     "output_type": "display_data"
    }
   ],
   "source": [
    "fpr, tpr, thresholds = roc_curve(y_test, y_score_gr)\n",
    "\n",
    "roc_auc = auc(fpr, tpr)\n",
    "\n",
    "plt.plot(fpr, tpr, color='darkorange', label='ROC curve (area = %0.2f)' % roc_auc)\n",
    "plt.plot([0, 1], [0, 1], color='navy', lw=2, linestyle='--')\n",
    "plt.xlim([0.0, 1.0])\n",
    "plt.ylim([0.0, 1.05])\n",
    "\n",
    "plt.xlabel('False Positive Rate')\n",
    "plt.ylabel('True Positive Rate')\n",
    "\n",
    "plt.title('Logistic Regression ROC AUC = %0.3f' % roc_auc)\n",
    "plt.legend(loc=\"lower right\")\n",
    "plt.show()"
   ]
  },
  {
   "cell_type": "code",
   "execution_count": 183,
   "id": "77ac9ba8-9ed5-4a7e-ad57-f7a48ed5da80",
   "metadata": {},
   "outputs": [
    {
     "data": {
      "text/html": [
       "<div>\n",
       "<style scoped>\n",
       "    .dataframe tbody tr th:only-of-type {\n",
       "        vertical-align: middle;\n",
       "    }\n",
       "\n",
       "    .dataframe tbody tr th {\n",
       "        vertical-align: top;\n",
       "    }\n",
       "\n",
       "    .dataframe thead th {\n",
       "        text-align: right;\n",
       "    }\n",
       "</style>\n",
       "<table border=\"1\" class=\"dataframe\">\n",
       "  <thead>\n",
       "    <tr style=\"text-align: right;\">\n",
       "      <th></th>\n",
       "      <th>Lol_lr</th>\n",
       "      <th>Serious_lr</th>\n",
       "    </tr>\n",
       "  </thead>\n",
       "  <tbody>\n",
       "    <tr>\n",
       "      <th>roc-auc</th>\n",
       "      <td>0.811092</td>\n",
       "      <td>0.798317</td>\n",
       "    </tr>\n",
       "    <tr>\n",
       "      <th>precision</th>\n",
       "      <td>0.270833</td>\n",
       "      <td>0.233113</td>\n",
       "    </tr>\n",
       "    <tr>\n",
       "      <th>recall</th>\n",
       "      <td>0.554608</td>\n",
       "      <td>0.561433</td>\n",
       "    </tr>\n",
       "    <tr>\n",
       "      <th>f1</th>\n",
       "      <td>0.363942</td>\n",
       "      <td>0.329439</td>\n",
       "    </tr>\n",
       "    <tr>\n",
       "      <th>logloss</th>\n",
       "      <td>4.479422</td>\n",
       "      <td>5.281201</td>\n",
       "    </tr>\n",
       "  </tbody>\n",
       "</table>\n",
       "</div>"
      ],
      "text/plain": [
       "             Lol_lr  Serious_lr\n",
       "roc-auc    0.811092    0.798317\n",
       "precision  0.270833    0.233113\n",
       "recall     0.554608    0.561433\n",
       "f1         0.363942    0.329439\n",
       "logloss    4.479422    5.281201"
      ]
     },
     "execution_count": 183,
     "metadata": {},
     "output_type": "execute_result"
    }
   ],
   "source": [
    "metrics['Serious_lr'] = (roc_auc_score(y_test, y_score_gr),\n",
    "precision_score(y_test, y_pred_gr),\n",
    "recall_score(y_test, y_pred_gr),\n",
    "f1_score(y_test, y_pred_gr),\n",
    "log_loss(y_test, y_pred_gr))\n",
    "metrics"
   ]
  },
  {
   "cell_type": "markdown",
   "id": "b2d17a07-2938-4860-96df-f2053ed72c13",
   "metadata": {},
   "source": [
    "# Градиентный Бустинг"
   ]
  },
  {
   "cell_type": "code",
   "execution_count": 188,
   "id": "5dd7269e-f0a0-4e6f-a29b-60f460094af7",
   "metadata": {},
   "outputs": [
    {
     "name": "stdout",
     "output_type": "stream",
     "text": [
      "Fitting 5 folds for each of 16 candidates, totalling 80 fits\n",
      "{'max_depth': 5, 'n_estimators': 20}\n"
     ]
    }
   ],
   "source": [
    "from xgboost import XGBClassifier\n",
    "param_grid = {'max_depth': [2, 5, 10, 25],  # it was better\n",
    "              'n_estimators': [5, 7, 10, 20]} \n",
    "\n",
    "grid = GridSearchCV(XGBClassifier(), param_grid, refit = True, verbose = 3,n_jobs=-1)\n",
    "\n",
    "grid.fit(X_train, y_train)\n",
    "\n",
    "print(grid.best_params_)"
   ]
  },
  {
   "cell_type": "code",
   "execution_count": 198,
   "id": "72afce99-cecd-4b34-b896-e24e4ad5b3e3",
   "metadata": {},
   "outputs": [
    {
     "data": {
      "image/png": "[encoded data removed]",
      "text/plain": [
       "<Figure size 432x288 with 1 Axes>"
      ]
     },
     "metadata": {
      "needs_background": "light"
     },
     "output_type": "display_data"
    }
   ],
   "source": [
    "model = grid\n",
    "preds = model.predict_proba(X_test)\n",
    "preds2 = model.predict(X_test)\n",
    "fpr, tpr, thresholds = roc_curve(y_test, preds[:,1])\n",
    "\n",
    "roc_auc = auc(fpr, tpr)\n",
    "\n",
    "plt.plot(fpr, tpr, color='darkorange', label='ROC curve (area = %0.2f)' % roc_auc)\n",
    "plt.plot([0, 1], [0, 1], color='navy', lw=2, linestyle='--')\n",
    "plt.xlim([0.0, 1.0])\n",
    "plt.ylim([0.0, 1.05])\n",
    "\n",
    "plt.xlabel('False Positive Rate')\n",
    "plt.ylabel('True Positive Rate')\n",
    "\n",
    "plt.title('Logistic Regression ROC AUC = %0.3f' % roc_auc)\n",
    "plt.legend(loc=\"lower right\")\n",
    "plt.show()"
   ]
  },
  {
   "cell_type": "code",
   "execution_count": 200,
   "id": "905a98a5-b3d4-4a36-b757-d4f6fe102511",
   "metadata": {},
   "outputs": [
    {
     "data": {
      "text/html": [
       "<div>\n",
       "<style scoped>\n",
       "    .dataframe tbody tr th:only-of-type {\n",
       "        vertical-align: middle;\n",
       "    }\n",
       "\n",
       "    .dataframe tbody tr th {\n",
       "        vertical-align: top;\n",
       "    }\n",
       "\n",
       "    .dataframe thead th {\n",
       "        text-align: right;\n",
       "    }\n",
       "</style>\n",
       "<table border=\"1\" class=\"dataframe\">\n",
       "  <thead>\n",
       "    <tr style=\"text-align: right;\">\n",
       "      <th></th>\n",
       "      <th>Lol_lr</th>\n",
       "      <th>Serious_lr</th>\n",
       "      <th>XGB</th>\n",
       "    </tr>\n",
       "  </thead>\n",
       "  <tbody>\n",
       "    <tr>\n",
       "      <th>roc-auc</th>\n",
       "      <td>0.811092</td>\n",
       "      <td>0.798317</td>\n",
       "      <td>0.857869</td>\n",
       "    </tr>\n",
       "    <tr>\n",
       "      <th>precision</th>\n",
       "      <td>0.270833</td>\n",
       "      <td>0.233113</td>\n",
       "      <td>0.586466</td>\n",
       "    </tr>\n",
       "    <tr>\n",
       "      <th>recall</th>\n",
       "      <td>0.554608</td>\n",
       "      <td>0.561433</td>\n",
       "      <td>0.177474</td>\n",
       "    </tr>\n",
       "    <tr>\n",
       "      <th>f1</th>\n",
       "      <td>0.363942</td>\n",
       "      <td>0.329439</td>\n",
       "      <td>0.272489</td>\n",
       "    </tr>\n",
       "    <tr>\n",
       "      <th>logloss</th>\n",
       "      <td>4.479422</td>\n",
       "      <td>5.281201</td>\n",
       "      <td>2.189732</td>\n",
       "    </tr>\n",
       "  </tbody>\n",
       "</table>\n",
       "</div>"
      ],
      "text/plain": [
       "             Lol_lr  Serious_lr       XGB\n",
       "roc-auc    0.811092    0.798317  0.857869\n",
       "precision  0.270833    0.233113  0.586466\n",
       "recall     0.554608    0.561433  0.177474\n",
       "f1         0.363942    0.329439  0.272489\n",
       "logloss    4.479422    5.281201  2.189732"
      ]
     },
     "execution_count": 200,
     "metadata": {},
     "output_type": "execute_result"
    }
   ],
   "source": [
    "y_score_gr = lr_gr.predict_proba(X_test)[:,1]\n",
    "\n",
    "metrics['XGB'] = (roc_auc,\n",
    "precision_score(y_test, preds2),\n",
    "recall_score(y_test, preds2),\n",
    "f1_score(y_test, preds2),\n",
    "log_loss(y_test, preds2))\n",
    "metrics"
   ]
  },
  {
   "cell_type": "markdown",
   "id": "71eda415-01fe-43ec-83ca-570721dc2281",
   "metadata": {},
   "source": [
    "# Random Forest "
   ]
  },
  {
   "cell_type": "markdown",
   "id": "8bf0a954-33c2-41ef-b40b-599dd236fef1",
   "metadata": {},
   "source": [
    "### Несерьезный"
   ]
  },
  {
   "cell_type": "code",
   "execution_count": 203,
   "id": "08f919d4-993d-4b0c-80e1-306e3442606b",
   "metadata": {},
   "outputs": [],
   "source": [
    "from sklearn.ensemble import RandomForestClassifier"
   ]
  },
  {
   "cell_type": "code",
   "execution_count": 210,
   "id": "b9057251-8685-45bd-83d7-9278186b3d73",
   "metadata": {},
   "outputs": [
    {
     "data": {
      "text/plain": [
       "RandomForestClassifier()"
      ]
     },
     "execution_count": 210,
     "metadata": {},
     "output_type": "execute_result"
    }
   ],
   "source": [
    "model_forest = RandomForestClassifier(n_estimators = 100)\n",
    "model_forest.fit(X_train, y_train)"
   ]
  },
  {
   "cell_type": "code",
   "execution_count": 214,
   "id": "352d49d7-8521-46a8-8fdf-b3c0549579a6",
   "metadata": {},
   "outputs": [],
   "source": [
    "y_score_for = model_forest.predict_proba(X_test)[:,1]"
   ]
  },
  {
   "cell_type": "code",
   "execution_count": 219,
   "id": "4bc07590-20ac-44cc-9bef-7d5c8e418d7d",
   "metadata": {},
   "outputs": [],
   "source": [
    "fpr, tpr, thresholds = roc_curve(y_test, y_score_for)\n",
    "roc_auc = auc(fpr, tpr)"
   ]
  },
  {
   "cell_type": "code",
   "execution_count": 218,
   "id": "0eebe3d4-df6b-47d8-bdab-6f1994e27022",
   "metadata": {},
   "outputs": [
    {
     "data": {
      "image/png": "[encoded data removed]",
      "text/plain": [
       "<Figure size 432x288 with 1 Axes>"
      ]
     },
     "metadata": {
      "needs_background": "light"
     },
     "output_type": "display_data"
    }
   ],
   "source": [
    "plt.plot(fpr, tpr, color='darkorange', label='ROC curve (area = %0.2f)' % roc_auc)\n",
    "plt.plot([0, 1], [0, 1], color='navy', lw=2, linestyle='--')\n",
    "plt.xlim([0.0, 1.0])\n",
    "plt.ylim([0.0, 1.05])\n",
    "\n",
    "plt.xlabel('False Positive Rate')\n",
    "plt.ylabel('True Positive Rate')\n",
    "\n",
    "plt.title('Logistic Regression ROC AUC = %0.3f' % roc_auc)\n",
    "plt.legend(loc=\"lower right\")\n",
    "plt.show()"
   ]
  },
  {
   "cell_type": "code",
   "execution_count": 243,
   "id": "6625c5cc-48a3-44b8-9e55-b5f2962a2c4f",
   "metadata": {},
   "outputs": [],
   "source": [
    "preds_forest = lr_gr.predict(X_test)\n",
    "metrics['RF_lol'] = (roc_auc,\n",
    "precision_score(y_test, preds_forest),\n",
    "recall_score(y_test, preds_forest),\n",
    "f1_score(y_test, preds_forest),\n",
    "log_loss(y_test, preds_forest))\n"
   ]
  },
  {
   "cell_type": "code",
   "execution_count": 232,
   "id": "6a921004-d82a-41eb-bbd3-d4f10859a0c8",
   "metadata": {},
   "outputs": [],
   "source": [
    "importances = model_forest.feature_importances_\n",
    "indices = np.argsort(importances)[::-1]"
   ]
  },
  {
   "cell_type": "code",
   "execution_count": 241,
   "id": "e4ed3b33-1ba8-4c10-9443-760074ba5275",
   "metadata": {},
   "outputs": [
    {
     "name": "stdout",
     "output_type": "stream",
     "text": [
      "Значимость признака:\n"
     ]
    },
    {
     "data": {
      "text/plain": [
       "[[0.2077, 'credit_card_utilization'],\n",
       " [0.1673, 'debt_to_income'],\n",
       " [0.143, 'monthly_income'],\n",
       " [0.1199, 'age'],\n",
       " [0.0915, 'overdue__more_than_90_days'],\n",
       " [0.0891, 'credits_loans'],\n",
       " [0.0537, 'overdue_60_89_days'],\n",
       " [0.0524, 'overdue_30_59_days'],\n",
       " [0.0401, 'family_members'],\n",
       " [0.0352, 'mortgage_loans']]"
      ]
     },
     "execution_count": 241,
     "metadata": {},
     "output_type": "execute_result"
    }
   ],
   "source": [
    "col = X_train.columns\n",
    "ar_f=[]\n",
    "for f, idx in enumerate(indices):\n",
    "    ar_f.append([round(importances[idx],4), col[idx]])\n",
    "print(\"Значимость признака:\")\n",
    "ar_f.sort(reverse=True)\n",
    "ar_f"
   ]
  },
  {
   "cell_type": "code",
   "execution_count": 242,
   "id": "b1633a74-3e6c-46a2-bd82-59a178af727b",
   "metadata": {},
   "outputs": [
    {
     "data": {
      "image/png": "[encoded data removed]",
      "text/plain": [
       "<Figure size 576x576 with 1 Axes>"
      ]
     },
     "metadata": {
      "needs_background": "light"
     },
     "output_type": "display_data"
    }
   ],
   "source": [
    "#диаграма \n",
    "d_first = len(col)\n",
    "plt.figure(figsize=(8, 8))\n",
    "plt.title(\"Значимость признака\")\n",
    "plt.bar(range(d_first), importances[indices[:d_first]], align='center')\n",
    "plt.xticks(range(d_first), np.array(col)[indices[:d_first]], rotation=90)\n",
    "plt.xlim([-1, d_first]);"
   ]
  },
  {
   "cell_type": "markdown",
   "id": "9203d256-57f8-44b5-89f5-fc04628a7279",
   "metadata": {},
   "source": [
    "## Hyperparameter tuning"
   ]
  },
  {
   "cell_type": "code",
   "execution_count": 253,
   "id": "1845b7f3-0dd7-4839-b234-65ab35ee0c27",
   "metadata": {},
   "outputs": [
    {
     "data": {
      "text/plain": [
       "dict_keys(['bootstrap', 'ccp_alpha', 'class_weight', 'criterion', 'max_depth', 'max_features', 'max_leaf_nodes', 'max_samples', 'min_impurity_decrease', 'min_impurity_split', 'min_samples_leaf', 'min_samples_split', 'min_weight_fraction_leaf', 'n_estimators', 'n_jobs', 'oob_score', 'random_state', 'verbose', 'warm_start'])"
      ]
     },
     "execution_count": 253,
     "metadata": {},
     "output_type": "execute_result"
    }
   ],
   "source": [
    "RandomForestClassifier().get_params().keys()"
   ]
  },
  {
   "cell_type": "code",
   "execution_count": 260,
   "id": "75c16aa5-d5f9-48a7-b91c-5e14926bd998",
   "metadata": {},
   "outputs": [],
   "source": [
    "# Number of trees in random forest\n",
    "n_estimators = [int(x) for x in np.linspace(start = 10, stop = 80, num = 10)]\n",
    "# Number of features to consider at every split\n",
    "max_features = ['auto', 'sqrt']\n",
    "# Maximum number of levels in the tree\n",
    "max_depth = [2, 4]\n",
    "# Minimum number of samles required to split a node\n",
    "min_samples_split = [2, 5]\n",
    "# Minimum number of samples required at each leaf node\n",
    "min_samples_leaf = [1, 2]\n",
    "# Method of selecting samples for training each tree\n",
    "bootstrap = [True, False]"
   ]
  },
  {
   "cell_type": "code",
   "execution_count": 261,
   "id": "6bfcdd1b-5a9b-4231-92af-b6c252005170",
   "metadata": {},
   "outputs": [],
   "source": [
    "random_grid = {'n_estimators' : n_estimators,\n",
    "             'max_features' : max_features,\n",
    "             'max_depth' : max_depth,\n",
    "              'min_samples_split' : min_samples_split,\n",
    "              'min_samples_leaf' : min_samples_leaf,\n",
    "              'bootstrap' : bootstrap\n",
    "             }"
   ]
  },
  {
   "cell_type": "code",
   "execution_count": 263,
   "id": "a9f71c83-0770-4b05-b38e-2608cd8e87eb",
   "metadata": {},
   "outputs": [],
   "source": [
    "model_rfhp = RandomForestClassifier()"
   ]
  },
  {
   "cell_type": "code",
   "execution_count": 264,
   "id": "b8cc7439-15ac-42b2-8ad1-2ad5cf7d826d",
   "metadata": {},
   "outputs": [],
   "source": [
    "rf_frid = GridSearchCV(estimator = model_rfhp, param_grid = random_grid, cv = 3, verbose = 2, n_jobs = 4)"
   ]
  },
  {
   "cell_type": "code",
   "execution_count": 268,
   "id": "ee209ce2-d33c-4e4d-a257-419f99d4e391",
   "metadata": {},
   "outputs": [],
   "source": [
    "#rf_frid.fit(X_train, y_train)"
   ]
  },
  {
   "cell_type": "code",
   "execution_count": 266,
   "id": "e62b71b9-6331-43b8-9976-cf49cd602375",
   "metadata": {},
   "outputs": [
    {
     "data": {
      "text/plain": [
       "{'bootstrap': False,\n",
       " 'max_depth': 4,\n",
       " 'max_features': 'auto',\n",
       " 'min_samples_leaf': 2,\n",
       " 'min_samples_split': 5,\n",
       " 'n_estimators': 10}"
      ]
     },
     "execution_count": 266,
     "metadata": {},
     "output_type": "execute_result"
    }
   ],
   "source": [
    "rf_frid.best_params_"
   ]
  },
  {
   "cell_type": "code",
   "execution_count": 267,
   "id": "b33bf5f1-0214-4740-9fb8-6452ec891344",
   "metadata": {},
   "outputs": [],
   "source": [
    "RF_best_score = {'bootstrap': False,\n",
    " 'max_depth': 4,\n",
    " 'max_features': 'auto',\n",
    " 'min_samples_leaf': 2,\n",
    " 'min_samples_split': 5,\n",
    " 'n_estimators': 10}"
   ]
  },
  {
   "cell_type": "code",
   "execution_count": 271,
   "id": "3aec8eff-f51d-4e47-882b-bd50a38bd98f",
   "metadata": {},
   "outputs": [],
   "source": [
    "y_score_forest = rf_frid.predict_proba(X_test)[:,1]\n",
    "fpr, tpr, thresholds = roc_curve(y_test, y_score_forest)\n",
    "roc_auc = auc(fpr, tpr)"
   ]
  },
  {
   "cell_type": "code",
   "execution_count": 272,
   "id": "2dd00c72-6e6b-4854-86c4-828eac13c7e0",
   "metadata": {},
   "outputs": [
    {
     "data": {
      "image/png": "[encoded data removed]",
      "text/plain": [
       "<Figure size 432x288 with 1 Axes>"
      ]
     },
     "metadata": {
      "needs_background": "light"
     },
     "output_type": "display_data"
    }
   ],
   "source": [
    "plt.plot(fpr, tpr, color='darkorange', label='ROC curve (area = %0.2f)' % roc_auc)\n",
    "plt.plot([0, 1], [0, 1], color='navy', lw=2, linestyle='--')\n",
    "plt.xlim([0.0, 1.0])\n",
    "plt.ylim([0.0, 1.05])\n",
    "\n",
    "plt.xlabel('False Positive Rate')\n",
    "plt.ylabel('True Positive Rate')\n",
    "\n",
    "plt.title('Logistic Regression ROC AUC = %0.3f' % roc_auc)\n",
    "plt.legend(loc=\"lower right\")\n",
    "plt.show()"
   ]
  },
  {
   "cell_type": "code",
   "execution_count": 276,
   "id": "22ed3c83-ac86-4e85-990b-faa41c7848de",
   "metadata": {},
   "outputs": [],
   "source": [
    "preds_forest_serious = rf_frid.predict(X_test)\n",
    "metrics['RF_serious'] = (roc_auc,\n",
    "precision_score(y_test, preds_forest_serious),\n",
    "recall_score(y_test, preds_forest_serious),\n",
    "f1_score(y_test, preds_forest_serious),\n",
    "log_loss(y_test, preds_forest_serious))\n",
    "\n"
   ]
  },
  {
   "cell_type": "code",
   "execution_count": 277,
   "id": "e2653903-32f8-437a-92c7-da3bbd6c7209",
   "metadata": {},
   "outputs": [
    {
     "data": {
      "text/html": [
       "<div>\n",
       "<style scoped>\n",
       "    .dataframe tbody tr th:only-of-type {\n",
       "        vertical-align: middle;\n",
       "    }\n",
       "\n",
       "    .dataframe tbody tr th {\n",
       "        vertical-align: top;\n",
       "    }\n",
       "\n",
       "    .dataframe thead th {\n",
       "        text-align: right;\n",
       "    }\n",
       "</style>\n",
       "<table border=\"1\" class=\"dataframe\">\n",
       "  <thead>\n",
       "    <tr style=\"text-align: right;\">\n",
       "      <th></th>\n",
       "      <th>Lol_lr</th>\n",
       "      <th>Serious_lr</th>\n",
       "      <th>XGB</th>\n",
       "      <th>RF_base</th>\n",
       "      <th>RF_lol</th>\n",
       "      <th>RF_serious</th>\n",
       "    </tr>\n",
       "  </thead>\n",
       "  <tbody>\n",
       "    <tr>\n",
       "      <th>roc-auc</th>\n",
       "      <td>0.811092</td>\n",
       "      <td>0.798317</td>\n",
       "      <td>0.857869</td>\n",
       "      <td>0.834593</td>\n",
       "      <td>0.834593</td>\n",
       "      <td>0.849458</td>\n",
       "    </tr>\n",
       "    <tr>\n",
       "      <th>precision</th>\n",
       "      <td>0.270833</td>\n",
       "      <td>0.233113</td>\n",
       "      <td>0.586466</td>\n",
       "      <td>0.233113</td>\n",
       "      <td>0.233113</td>\n",
       "      <td>0.598726</td>\n",
       "    </tr>\n",
       "    <tr>\n",
       "      <th>recall</th>\n",
       "      <td>0.554608</td>\n",
       "      <td>0.561433</td>\n",
       "      <td>0.177474</td>\n",
       "      <td>0.561433</td>\n",
       "      <td>0.561433</td>\n",
       "      <td>0.106940</td>\n",
       "    </tr>\n",
       "    <tr>\n",
       "      <th>f1</th>\n",
       "      <td>0.363942</td>\n",
       "      <td>0.329439</td>\n",
       "      <td>0.272489</td>\n",
       "      <td>0.329439</td>\n",
       "      <td>0.329439</td>\n",
       "      <td>0.181467</td>\n",
       "    </tr>\n",
       "    <tr>\n",
       "      <th>logloss</th>\n",
       "      <td>4.479422</td>\n",
       "      <td>5.281201</td>\n",
       "      <td>2.189732</td>\n",
       "      <td>5.281201</td>\n",
       "      <td>5.281201</td>\n",
       "      <td>2.229160</td>\n",
       "    </tr>\n",
       "  </tbody>\n",
       "</table>\n",
       "</div>"
      ],
      "text/plain": [
       "             Lol_lr  Serious_lr       XGB   RF_base    RF_lol  RF_serious\n",
       "roc-auc    0.811092    0.798317  0.857869  0.834593  0.834593    0.849458\n",
       "precision  0.270833    0.233113  0.586466  0.233113  0.233113    0.598726\n",
       "recall     0.554608    0.561433  0.177474  0.561433  0.561433    0.106940\n",
       "f1         0.363942    0.329439  0.272489  0.329439  0.329439    0.181467\n",
       "logloss    4.479422    5.281201  2.189732  5.281201  5.281201    2.229160"
      ]
     },
     "execution_count": 277,
     "metadata": {},
     "output_type": "execute_result"
    }
   ],
   "source": [
    "metrics"
   ]
  }
 ],
 "metadata": {
  "kernelspec": {
   "display_name": "Python 3 (ipykernel)",
   "language": "python",
   "name": "python3"
  },
  "language_info": {
   "codemirror_mode": {
    "name": "ipython",
    "version": 3
   },
   "file_extension": ".py",
   "mimetype": "text/x-python",
   "name": "python",
   "nbconvert_exporter": "python",
   "pygments_lexer": "ipython3",
   "version": "3.9.7"
  }
 },
 "nbformat": 4,
 "nbformat_minor": 5
}
